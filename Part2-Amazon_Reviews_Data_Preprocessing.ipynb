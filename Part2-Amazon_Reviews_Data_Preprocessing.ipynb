{
 "cells": [
  {
   "cell_type": "markdown",
   "id": "28bbcb48",
   "metadata": {},
   "source": [
    "# NLP - Sentiment Analysis for Amazon Product Reviews\n",
    "# Data Preprocessing"
   ]
  },
  {
   "cell_type": "markdown",
   "id": "58486c4c",
   "metadata": {},
   "source": [
    "This is the second phase of the project - cleaning and manipulating extracted data from Amazon's review section, hence, we'll read the 'Whey_Protein_Amazon_Scraped_Reviews.csv' file, which represents the scraper's direct output.   "
   ]
  },
  {
   "cell_type": "code",
   "execution_count": 1,
   "id": "ac9ad705",
   "metadata": {},
   "outputs": [],
   "source": [
    "# Import libraries\n",
    "import pandas as pd\n",
    "import numpy as np\n",
    "import math\n",
    "import matplotlib.pyplot as plt\n",
    "import seaborn as sns\n",
    "import re"
   ]
  },
  {
   "cell_type": "markdown",
   "id": "ba8a658b",
   "metadata": {},
   "source": [
    "### Read scraped data (from 10 pages worth of comments in which each page fits a max of 10 comments) per whey protein product currently being sold at Amazon.\n",
    "There's a total of 3314 rows in the dataset - some products have more reviews than others. The columns available/required for the analysis are the following:\n",
    "1. ID\n",
    "2. Product_Name\n",
    "3. Date\n",
    "4. Rating_Score\n",
    "5. Reviews\n",
    "6. Link\n",
    "7. Product ID (note that some product ID's are linked to the same 'Product Name')"
   ]
  },
  {
   "cell_type": "code",
   "execution_count": 2,
   "id": "0cea2640",
   "metadata": {},
   "outputs": [
    {
     "name": "stdout",
     "output_type": "stream",
     "text": [
      "ID                int64\n",
      "Product_Name     object\n",
      "Date             object\n",
      "Rating_Score    float64\n",
      "Reviews          string\n",
      "Link             string\n",
      "dtype: object\n",
      "(3314, 7)\n"
     ]
    }
   ],
   "source": [
    "# Read scraped results from CSV\n",
    "df = pd.read_csv('Whey_Protein_Amazon_Scraped_Reviews.csv')\n",
    "\n",
    "# Assign name to unnamed col. - for later use in Sentiment analysis \n",
    "df.rename(columns = {'Unnamed: 0': 'ID'}, inplace = True)\n",
    "\n",
    "# Change data type for 'Review' & 'Link' to 'string' & fill empty cells (from CSV) with NA\n",
    "df['Reviews'] = df['Reviews'].astype('string')\n",
    "df = df.fillna('NA')\n",
    "\n",
    "df['Link'] = df['Link'].astype('string')\n",
    "print(df.dtypes)\n",
    "\n",
    "# Extract product id's (or ASIN ID) from Links\n",
    "product_id = []\n",
    "for value in df['Link']:\n",
    "    x = re.search(r'product-reviews/(.*?)/ref=cm_cr', value).group(1)\n",
    "    product_id.append(x)\n",
    "\n",
    "df[\"Product_ID\"] = product_id\n",
    "\n",
    "# Print dataframe's shape and datatypes to confirm 7 columns in total\n",
    "print(df.shape)"
   ]
  },
  {
   "cell_type": "code",
   "execution_count": 3,
   "id": "df5c638c",
   "metadata": {},
   "outputs": [
    {
     "data": {
      "text/html": [
       "<div>\n",
       "<style scoped>\n",
       "    .dataframe tbody tr th:only-of-type {\n",
       "        vertical-align: middle;\n",
       "    }\n",
       "\n",
       "    .dataframe tbody tr th {\n",
       "        vertical-align: top;\n",
       "    }\n",
       "\n",
       "    .dataframe thead th {\n",
       "        text-align: right;\n",
       "    }\n",
       "</style>\n",
       "<table border=\"1\" class=\"dataframe\">\n",
       "  <thead>\n",
       "    <tr style=\"text-align: right;\">\n",
       "      <th></th>\n",
       "      <th>ID</th>\n",
       "      <th>Product_Name</th>\n",
       "      <th>Date</th>\n",
       "      <th>Rating_Score</th>\n",
       "      <th>Reviews</th>\n",
       "      <th>Link</th>\n",
       "      <th>Product_ID</th>\n",
       "    </tr>\n",
       "  </thead>\n",
       "  <tbody>\n",
       "    <tr>\n",
       "      <th>0</th>\n",
       "      <td>0</td>\n",
       "      <td>NatureWorks-HydroMATE-Electrolytes-Chocolate-C...</td>\n",
       "      <td>2023-01-25</td>\n",
       "      <td>5.0</td>\n",
       "      <td>I love this. I make it for myself and my kids...</td>\n",
       "      <td>https://www.amazon.com/NatureWorks-HydroMATE-E...</td>\n",
       "      <td>B0BRT77ZK8</td>\n",
       "    </tr>\n",
       "    <tr>\n",
       "      <th>1</th>\n",
       "      <td>1</td>\n",
       "      <td>NatureWorks-HydroMATE-Electrolytes-Chocolate-C...</td>\n",
       "      <td>2023-02-06</td>\n",
       "      <td>5.0</td>\n",
       "      <td>Takes away lightheadedness and makes my husba...</td>\n",
       "      <td>https://www.amazon.com/NatureWorks-HydroMATE-E...</td>\n",
       "      <td>B0BRT77ZK8</td>\n",
       "    </tr>\n",
       "    <tr>\n",
       "      <th>2</th>\n",
       "      <td>2</td>\n",
       "      <td>NatureWorks-HydroMATE-Electrolytes-Chocolate-C...</td>\n",
       "      <td>2023-01-27</td>\n",
       "      <td>5.0</td>\n",
       "      <td>The chocolate tastes delicious! I drink it ev...</td>\n",
       "      <td>https://www.amazon.com/NatureWorks-HydroMATE-E...</td>\n",
       "      <td>B0BRT77ZK8</td>\n",
       "    </tr>\n",
       "    <tr>\n",
       "      <th>3</th>\n",
       "      <td>3</td>\n",
       "      <td>NatureWorks-HydroMATE-Electrolytes-Chocolate-C...</td>\n",
       "      <td>2023-01-27</td>\n",
       "      <td>5.0</td>\n",
       "      <td>I absolutely love this! My buddy gave me a fe...</td>\n",
       "      <td>https://www.amazon.com/NatureWorks-HydroMATE-E...</td>\n",
       "      <td>B0BRT77ZK8</td>\n",
       "    </tr>\n",
       "    <tr>\n",
       "      <th>4</th>\n",
       "      <td>4</td>\n",
       "      <td>NatureWorks-HydroMATE-Electrolytes-Chocolate-C...</td>\n",
       "      <td>2023-02-18</td>\n",
       "      <td>4.0</td>\n",
       "      <td>I like to work out regularly. This includes w...</td>\n",
       "      <td>https://www.amazon.com/NatureWorks-HydroMATE-E...</td>\n",
       "      <td>B0BRT77ZK8</td>\n",
       "    </tr>\n",
       "  </tbody>\n",
       "</table>\n",
       "</div>"
      ],
      "text/plain": [
       "   ID                                       Product_Name        Date  \\\n",
       "0   0  NatureWorks-HydroMATE-Electrolytes-Chocolate-C...  2023-01-25   \n",
       "1   1  NatureWorks-HydroMATE-Electrolytes-Chocolate-C...  2023-02-06   \n",
       "2   2  NatureWorks-HydroMATE-Electrolytes-Chocolate-C...  2023-01-27   \n",
       "3   3  NatureWorks-HydroMATE-Electrolytes-Chocolate-C...  2023-01-27   \n",
       "4   4  NatureWorks-HydroMATE-Electrolytes-Chocolate-C...  2023-02-18   \n",
       "\n",
       "   Rating_Score                                            Reviews  \\\n",
       "0           5.0  \n",
       "I love this. I make it for myself and my kids...   \n",
       "1           5.0  \n",
       "Takes away lightheadedness and makes my husba...   \n",
       "2           5.0  \n",
       "The chocolate tastes delicious! I drink it ev...   \n",
       "3           5.0  \n",
       "I absolutely love this! My buddy gave me a fe...   \n",
       "4           4.0  \n",
       "I like to work out regularly. This includes w...   \n",
       "\n",
       "                                                Link  Product_ID  \n",
       "0  https://www.amazon.com/NatureWorks-HydroMATE-E...  B0BRT77ZK8  \n",
       "1  https://www.amazon.com/NatureWorks-HydroMATE-E...  B0BRT77ZK8  \n",
       "2  https://www.amazon.com/NatureWorks-HydroMATE-E...  B0BRT77ZK8  \n",
       "3  https://www.amazon.com/NatureWorks-HydroMATE-E...  B0BRT77ZK8  \n",
       "4  https://www.amazon.com/NatureWorks-HydroMATE-E...  B0BRT77ZK8  "
      ]
     },
     "execution_count": 3,
     "metadata": {},
     "output_type": "execute_result"
    }
   ],
   "source": [
    "df.head(5)"
   ]
  },
  {
   "cell_type": "code",
   "execution_count": 4,
   "id": "622f9085",
   "metadata": {},
   "outputs": [],
   "source": [
    "# Converting dataframe to a csv file to use it later for further analysis\n",
    "df.to_csv('Whey_Protein_Amazon_Preprocessed_Reviews.csv') "
   ]
  }
 ],
 "metadata": {
  "kernelspec": {
   "display_name": "Python 3 (ipykernel)",
   "language": "python",
   "name": "python3"
  },
  "language_info": {
   "codemirror_mode": {
    "name": "ipython",
    "version": 3
   },
   "file_extension": ".py",
   "mimetype": "text/x-python",
   "name": "python",
   "nbconvert_exporter": "python",
   "pygments_lexer": "ipython3",
   "version": "3.11.1"
  }
 },
 "nbformat": 4,
 "nbformat_minor": 5
}
