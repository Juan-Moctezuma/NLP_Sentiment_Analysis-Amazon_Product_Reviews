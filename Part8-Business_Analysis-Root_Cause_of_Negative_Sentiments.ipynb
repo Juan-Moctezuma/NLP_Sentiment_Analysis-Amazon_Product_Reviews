{
 "cells": [
  {
   "cell_type": "markdown",
   "id": "ad1a8f31",
   "metadata": {},
   "source": [
    "# NLP - Sentiment Analysis for Amazon Product Reviews\n",
    "# Business Analysis - Understanding Customer's Negative Sentiments"
   ]
  },
  {
   "cell_type": "markdown",
   "id": "bfdfb731",
   "metadata": {},
   "source": [
    "During this data science project we used the following methods and techniques to confirm and verify that predictions toward whey protein currently available for consumers at Amazon's E-commerce website will receive positive reviews:\n",
    "\n",
    "- A) Bag of words approach (VADER - Valence Aware Dictionary & Sentiment Reasoner)\n",
    "- B) Roberta Model - Transformer-based model by Hugging Face\n",
    "- C) BERT Neural Network (multilingual - English, Spanish, French, Italian, German)\n",
    "- D) Text Blob approach\n",
    "- E) Naive Bayes Algorithm approach\n",
    "\n",
    "It's good to know that customers are happy with Amazon's current whey protein products. However, it's important to understand the root cause of negative sentiments towards these supplements as well - with the intention of continuously improving the proteins' quality."
   ]
  },
  {
   "cell_type": "markdown",
   "id": "e3a31d92",
   "metadata": {},
   "source": [
    "## Prepare dataframes from previous model's results (Except for Naive Bayes Model)"
   ]
  },
  {
   "cell_type": "code",
   "execution_count": 1,
   "id": "72ef1b8b",
   "metadata": {},
   "outputs": [],
   "source": [
    "# Import libraries\n",
    "import pandas as pd\n",
    "import numpy as np\n",
    "import math\n",
    "import matplotlib\n",
    "import matplotlib.pyplot as plt\n",
    "import plotly.express as px\n",
    "import seaborn as sns\n",
    "import re"
   ]
  },
  {
   "cell_type": "code",
   "execution_count": 2,
   "id": "f2e4347f",
   "metadata": {},
   "outputs": [],
   "source": [
    "# Read scraped results from Roberta vs Vader CSV\n",
    "df = pd.read_csv('Whey_Protein_Results_Roberta_vs_Vader.csv')"
   ]
  },
  {
   "cell_type": "code",
   "execution_count": 3,
   "id": "4b6d2b49",
   "metadata": {},
   "outputs": [],
   "source": [
    "# Change data type for 'Review' to 'string' & fill empty cells (from CSV) with NA\n",
    "df['Reviews'] = df['Reviews'].astype('string')\n",
    "df = df.fillna('NA')\n",
    "# Drop extra unnamed column\n",
    "#col_0 = df.columns[0]\n",
    "#df.drop(col_0, axis = 1, inplace = True)"
   ]
  },
  {
   "cell_type": "code",
   "execution_count": 4,
   "id": "c884ccb1",
   "metadata": {},
   "outputs": [
    {
     "data": {
      "text/html": [
       "<div>\n",
       "<style scoped>\n",
       "    .dataframe tbody tr th:only-of-type {\n",
       "        vertical-align: middle;\n",
       "    }\n",
       "\n",
       "    .dataframe tbody tr th {\n",
       "        vertical-align: top;\n",
       "    }\n",
       "\n",
       "    .dataframe thead th {\n",
       "        text-align: right;\n",
       "    }\n",
       "</style>\n",
       "<table border=\"1\" class=\"dataframe\">\n",
       "  <thead>\n",
       "    <tr style=\"text-align: right;\">\n",
       "      <th></th>\n",
       "      <th>ID</th>\n",
       "      <th>vader_neg</th>\n",
       "      <th>vader_neu</th>\n",
       "      <th>vader_pos</th>\n",
       "      <th>vader_compound</th>\n",
       "      <th>roberta_neg</th>\n",
       "      <th>roberta_neu</th>\n",
       "      <th>roberta_pos</th>\n",
       "      <th>Product_Name</th>\n",
       "      <th>Date</th>\n",
       "      <th>Rating_Score</th>\n",
       "      <th>Reviews</th>\n",
       "      <th>Link</th>\n",
       "      <th>Product_ID</th>\n",
       "    </tr>\n",
       "  </thead>\n",
       "  <tbody>\n",
       "    <tr>\n",
       "      <th>0</th>\n",
       "      <td>0</td>\n",
       "      <td>0.028</td>\n",
       "      <td>0.667</td>\n",
       "      <td>0.305</td>\n",
       "      <td>0.9720</td>\n",
       "      <td>0.001776</td>\n",
       "      <td>0.006046</td>\n",
       "      <td>0.992178</td>\n",
       "      <td>NatureWorks-HydroMATE-Electrolytes-Chocolate-C...</td>\n",
       "      <td>2023-01-25</td>\n",
       "      <td>5.0</td>\n",
       "      <td>I love this. I make it for myself and my kids...</td>\n",
       "      <td>https://www.amazon.com/NatureWorks-HydroMATE-E...</td>\n",
       "      <td>B0BRT77ZK8</td>\n",
       "    </tr>\n",
       "    <tr>\n",
       "      <th>1</th>\n",
       "      <td>1</td>\n",
       "      <td>0.000</td>\n",
       "      <td>0.890</td>\n",
       "      <td>0.110</td>\n",
       "      <td>0.3818</td>\n",
       "      <td>0.003589</td>\n",
       "      <td>0.056954</td>\n",
       "      <td>0.939457</td>\n",
       "      <td>NatureWorks-HydroMATE-Electrolytes-Chocolate-C...</td>\n",
       "      <td>2023-02-06</td>\n",
       "      <td>5.0</td>\n",
       "      <td>Takes away lightheadedness and makes my husba...</td>\n",
       "      <td>https://www.amazon.com/NatureWorks-HydroMATE-E...</td>\n",
       "      <td>B0BRT77ZK8</td>\n",
       "    </tr>\n",
       "    <tr>\n",
       "      <th>2</th>\n",
       "      <td>2</td>\n",
       "      <td>0.000</td>\n",
       "      <td>0.631</td>\n",
       "      <td>0.369</td>\n",
       "      <td>0.9060</td>\n",
       "      <td>0.001234</td>\n",
       "      <td>0.008779</td>\n",
       "      <td>0.989986</td>\n",
       "      <td>NatureWorks-HydroMATE-Electrolytes-Chocolate-C...</td>\n",
       "      <td>2023-01-27</td>\n",
       "      <td>5.0</td>\n",
       "      <td>The chocolate tastes delicious! I drink it ev...</td>\n",
       "      <td>https://www.amazon.com/NatureWorks-HydroMATE-E...</td>\n",
       "      <td>B0BRT77ZK8</td>\n",
       "    </tr>\n",
       "    <tr>\n",
       "      <th>3</th>\n",
       "      <td>3</td>\n",
       "      <td>0.000</td>\n",
       "      <td>0.618</td>\n",
       "      <td>0.382</td>\n",
       "      <td>0.9146</td>\n",
       "      <td>0.001667</td>\n",
       "      <td>0.006437</td>\n",
       "      <td>0.991896</td>\n",
       "      <td>NatureWorks-HydroMATE-Electrolytes-Chocolate-C...</td>\n",
       "      <td>2023-01-27</td>\n",
       "      <td>5.0</td>\n",
       "      <td>I absolutely love this! My buddy gave me a fe...</td>\n",
       "      <td>https://www.amazon.com/NatureWorks-HydroMATE-E...</td>\n",
       "      <td>B0BRT77ZK8</td>\n",
       "    </tr>\n",
       "    <tr>\n",
       "      <th>4</th>\n",
       "      <td>4</td>\n",
       "      <td>0.013</td>\n",
       "      <td>0.873</td>\n",
       "      <td>0.114</td>\n",
       "      <td>0.9866</td>\n",
       "      <td>0.084602</td>\n",
       "      <td>0.334970</td>\n",
       "      <td>0.580428</td>\n",
       "      <td>NatureWorks-HydroMATE-Electrolytes-Chocolate-C...</td>\n",
       "      <td>2023-02-18</td>\n",
       "      <td>4.0</td>\n",
       "      <td>I like to work out regularly. This includes w...</td>\n",
       "      <td>https://www.amazon.com/NatureWorks-HydroMATE-E...</td>\n",
       "      <td>B0BRT77ZK8</td>\n",
       "    </tr>\n",
       "  </tbody>\n",
       "</table>\n",
       "</div>"
      ],
      "text/plain": [
       "   ID  vader_neg  vader_neu  vader_pos  vader_compound  roberta_neg  \\\n",
       "0   0      0.028      0.667      0.305          0.9720     0.001776   \n",
       "1   1      0.000      0.890      0.110          0.3818     0.003589   \n",
       "2   2      0.000      0.631      0.369          0.9060     0.001234   \n",
       "3   3      0.000      0.618      0.382          0.9146     0.001667   \n",
       "4   4      0.013      0.873      0.114          0.9866     0.084602   \n",
       "\n",
       "   roberta_neu  roberta_pos  \\\n",
       "0     0.006046     0.992178   \n",
       "1     0.056954     0.939457   \n",
       "2     0.008779     0.989986   \n",
       "3     0.006437     0.991896   \n",
       "4     0.334970     0.580428   \n",
       "\n",
       "                                        Product_Name        Date  \\\n",
       "0  NatureWorks-HydroMATE-Electrolytes-Chocolate-C...  2023-01-25   \n",
       "1  NatureWorks-HydroMATE-Electrolytes-Chocolate-C...  2023-02-06   \n",
       "2  NatureWorks-HydroMATE-Electrolytes-Chocolate-C...  2023-01-27   \n",
       "3  NatureWorks-HydroMATE-Electrolytes-Chocolate-C...  2023-01-27   \n",
       "4  NatureWorks-HydroMATE-Electrolytes-Chocolate-C...  2023-02-18   \n",
       "\n",
       "   Rating_Score                                            Reviews  \\\n",
       "0           5.0  \n",
       "I love this. I make it for myself and my kids...   \n",
       "1           5.0  \n",
       "Takes away lightheadedness and makes my husba...   \n",
       "2           5.0  \n",
       "The chocolate tastes delicious! I drink it ev...   \n",
       "3           5.0  \n",
       "I absolutely love this! My buddy gave me a fe...   \n",
       "4           4.0  \n",
       "I like to work out regularly. This includes w...   \n",
       "\n",
       "                                                Link  Product_ID  \n",
       "0  https://www.amazon.com/NatureWorks-HydroMATE-E...  B0BRT77ZK8  \n",
       "1  https://www.amazon.com/NatureWorks-HydroMATE-E...  B0BRT77ZK8  \n",
       "2  https://www.amazon.com/NatureWorks-HydroMATE-E...  B0BRT77ZK8  \n",
       "3  https://www.amazon.com/NatureWorks-HydroMATE-E...  B0BRT77ZK8  \n",
       "4  https://www.amazon.com/NatureWorks-HydroMATE-E...  B0BRT77ZK8  "
      ]
     },
     "execution_count": 4,
     "metadata": {},
     "output_type": "execute_result"
    }
   ],
   "source": [
    "df.head()"
   ]
  },
  {
   "cell_type": "code",
   "execution_count": 5,
   "id": "bcd526b4",
   "metadata": {},
   "outputs": [],
   "source": [
    "# Read scraped results from TextBlob CSV\n",
    "df2 = pd.read_csv('Whey_Protein_Textblob_Results.csv')"
   ]
  },
  {
   "cell_type": "code",
   "execution_count": 6,
   "id": "28b950d3",
   "metadata": {},
   "outputs": [],
   "source": [
    "# Change data type for 'Review' to 'string' & fill empty cells (from CSV) with NA\n",
    "df2['Reviews'] = df2['Reviews'].astype('string')\n",
    "df2 = df2.fillna('NA')\n",
    "# Drop extra unnamed column\n",
    "#col_0 = df2.columns[0]\n",
    "#df2.drop(col_0, axis = 1, inplace = True)"
   ]
  },
  {
   "cell_type": "code",
   "execution_count": 7,
   "id": "90a2fe02",
   "metadata": {},
   "outputs": [
    {
     "data": {
      "text/html": [
       "<div>\n",
       "<style scoped>\n",
       "    .dataframe tbody tr th:only-of-type {\n",
       "        vertical-align: middle;\n",
       "    }\n",
       "\n",
       "    .dataframe tbody tr th {\n",
       "        vertical-align: top;\n",
       "    }\n",
       "\n",
       "    .dataframe thead th {\n",
       "        text-align: right;\n",
       "    }\n",
       "</style>\n",
       "<table border=\"1\" class=\"dataframe\">\n",
       "  <thead>\n",
       "    <tr style=\"text-align: right;\">\n",
       "      <th></th>\n",
       "      <th>ID</th>\n",
       "      <th>Product_Name</th>\n",
       "      <th>Date</th>\n",
       "      <th>Rating_Score</th>\n",
       "      <th>textblob_polarity</th>\n",
       "      <th>textblob_subjectivity</th>\n",
       "      <th>textblob_analysis</th>\n",
       "      <th>Reviews</th>\n",
       "      <th>Product_ID</th>\n",
       "    </tr>\n",
       "  </thead>\n",
       "  <tbody>\n",
       "    <tr>\n",
       "      <th>0</th>\n",
       "      <td>0</td>\n",
       "      <td>NatureWorks-HydroMATE-Electrolytes-Chocolate-C...</td>\n",
       "      <td>2023-01-25</td>\n",
       "      <td>5.0</td>\n",
       "      <td>0.456250</td>\n",
       "      <td>0.628125</td>\n",
       "      <td>1</td>\n",
       "      <td>I love this. I make it for myself and my kids...</td>\n",
       "      <td>B0BRT77ZK8</td>\n",
       "    </tr>\n",
       "    <tr>\n",
       "      <th>1</th>\n",
       "      <td>1</td>\n",
       "      <td>NatureWorks-HydroMATE-Electrolytes-Chocolate-C...</td>\n",
       "      <td>2023-02-06</td>\n",
       "      <td>5.0</td>\n",
       "      <td>0.000000</td>\n",
       "      <td>0.400000</td>\n",
       "      <td>0</td>\n",
       "      <td>Takes away lightheadedness and makes my husba...</td>\n",
       "      <td>B0BRT77ZK8</td>\n",
       "    </tr>\n",
       "    <tr>\n",
       "      <th>2</th>\n",
       "      <td>2</td>\n",
       "      <td>NatureWorks-HydroMATE-Electrolytes-Chocolate-C...</td>\n",
       "      <td>2023-01-27</td>\n",
       "      <td>5.0</td>\n",
       "      <td>0.500000</td>\n",
       "      <td>0.750000</td>\n",
       "      <td>1</td>\n",
       "      <td>The chocolate tastes delicious! I drink it ev...</td>\n",
       "      <td>B0BRT77ZK8</td>\n",
       "    </tr>\n",
       "    <tr>\n",
       "      <th>3</th>\n",
       "      <td>3</td>\n",
       "      <td>NatureWorks-HydroMATE-Electrolytes-Chocolate-C...</td>\n",
       "      <td>2023-01-27</td>\n",
       "      <td>5.0</td>\n",
       "      <td>0.406250</td>\n",
       "      <td>0.575000</td>\n",
       "      <td>1</td>\n",
       "      <td>I absolutely love this! My buddy gave me a fe...</td>\n",
       "      <td>B0BRT77ZK8</td>\n",
       "    </tr>\n",
       "    <tr>\n",
       "      <th>4</th>\n",
       "      <td>4</td>\n",
       "      <td>NatureWorks-HydroMATE-Electrolytes-Chocolate-C...</td>\n",
       "      <td>2023-02-18</td>\n",
       "      <td>4.0</td>\n",
       "      <td>0.171118</td>\n",
       "      <td>0.582585</td>\n",
       "      <td>1</td>\n",
       "      <td>I like to work out regularly. This includes w...</td>\n",
       "      <td>B0BRT77ZK8</td>\n",
       "    </tr>\n",
       "  </tbody>\n",
       "</table>\n",
       "</div>"
      ],
      "text/plain": [
       "   ID                                       Product_Name        Date  \\\n",
       "0   0  NatureWorks-HydroMATE-Electrolytes-Chocolate-C...  2023-01-25   \n",
       "1   1  NatureWorks-HydroMATE-Electrolytes-Chocolate-C...  2023-02-06   \n",
       "2   2  NatureWorks-HydroMATE-Electrolytes-Chocolate-C...  2023-01-27   \n",
       "3   3  NatureWorks-HydroMATE-Electrolytes-Chocolate-C...  2023-01-27   \n",
       "4   4  NatureWorks-HydroMATE-Electrolytes-Chocolate-C...  2023-02-18   \n",
       "\n",
       "   Rating_Score  textblob_polarity  textblob_subjectivity  textblob_analysis  \\\n",
       "0           5.0           0.456250               0.628125                  1   \n",
       "1           5.0           0.000000               0.400000                  0   \n",
       "2           5.0           0.500000               0.750000                  1   \n",
       "3           5.0           0.406250               0.575000                  1   \n",
       "4           4.0           0.171118               0.582585                  1   \n",
       "\n",
       "                                             Reviews  Product_ID  \n",
       "0  \n",
       "I love this. I make it for myself and my kids...  B0BRT77ZK8  \n",
       "1  \n",
       "Takes away lightheadedness and makes my husba...  B0BRT77ZK8  \n",
       "2  \n",
       "The chocolate tastes delicious! I drink it ev...  B0BRT77ZK8  \n",
       "3  \n",
       "I absolutely love this! My buddy gave me a fe...  B0BRT77ZK8  \n",
       "4  \n",
       "I like to work out regularly. This includes w...  B0BRT77ZK8  "
      ]
     },
     "execution_count": 7,
     "metadata": {},
     "output_type": "execute_result"
    }
   ],
   "source": [
    "df2.head()"
   ]
  },
  {
   "cell_type": "code",
   "execution_count": 8,
   "id": "558b8fed",
   "metadata": {},
   "outputs": [],
   "source": [
    "# Read scraped results from TextBlob CSV\n",
    "df3 = pd.read_csv('Whey_Protein_Bert_Results.csv')"
   ]
  },
  {
   "cell_type": "code",
   "execution_count": 9,
   "id": "5382a4ba",
   "metadata": {},
   "outputs": [],
   "source": [
    "# Change data type for 'Review' to 'string' & fill empty cells (from CSV) with NA\n",
    "df3['Reviews'] = df3['Reviews'].astype('string')\n",
    "df3 = df3.fillna('NA')\n",
    "# Drop extra unnamed column\n",
    "#col_0 = df3.columns[0]\n",
    "#df3.drop(col_0, axis = 1, inplace = True)"
   ]
  },
  {
   "cell_type": "code",
   "execution_count": 10,
   "id": "e4e31077",
   "metadata": {},
   "outputs": [
    {
     "data": {
      "text/html": [
       "<div>\n",
       "<style scoped>\n",
       "    .dataframe tbody tr th:only-of-type {\n",
       "        vertical-align: middle;\n",
       "    }\n",
       "\n",
       "    .dataframe tbody tr th {\n",
       "        vertical-align: top;\n",
       "    }\n",
       "\n",
       "    .dataframe thead th {\n",
       "        text-align: right;\n",
       "    }\n",
       "</style>\n",
       "<table border=\"1\" class=\"dataframe\">\n",
       "  <thead>\n",
       "    <tr style=\"text-align: right;\">\n",
       "      <th></th>\n",
       "      <th>ID</th>\n",
       "      <th>Product_Name</th>\n",
       "      <th>Date</th>\n",
       "      <th>Rating_Score</th>\n",
       "      <th>bert_sentiment</th>\n",
       "      <th>Reviews</th>\n",
       "      <th>Product_ID</th>\n",
       "    </tr>\n",
       "  </thead>\n",
       "  <tbody>\n",
       "    <tr>\n",
       "      <th>0</th>\n",
       "      <td>0</td>\n",
       "      <td>NatureWorks-HydroMATE-Electrolytes-Chocolate-C...</td>\n",
       "      <td>2023-01-25</td>\n",
       "      <td>5.0</td>\n",
       "      <td>5</td>\n",
       "      <td>I love this. I make it for myself and my kids...</td>\n",
       "      <td>B0BRT77ZK8</td>\n",
       "    </tr>\n",
       "    <tr>\n",
       "      <th>1</th>\n",
       "      <td>1</td>\n",
       "      <td>NatureWorks-HydroMATE-Electrolytes-Chocolate-C...</td>\n",
       "      <td>2023-02-06</td>\n",
       "      <td>5.0</td>\n",
       "      <td>5</td>\n",
       "      <td>Takes away lightheadedness and makes my husba...</td>\n",
       "      <td>B0BRT77ZK8</td>\n",
       "    </tr>\n",
       "    <tr>\n",
       "      <th>2</th>\n",
       "      <td>2</td>\n",
       "      <td>NatureWorks-HydroMATE-Electrolytes-Chocolate-C...</td>\n",
       "      <td>2023-01-27</td>\n",
       "      <td>5.0</td>\n",
       "      <td>5</td>\n",
       "      <td>The chocolate tastes delicious! I drink it ev...</td>\n",
       "      <td>B0BRT77ZK8</td>\n",
       "    </tr>\n",
       "    <tr>\n",
       "      <th>3</th>\n",
       "      <td>3</td>\n",
       "      <td>NatureWorks-HydroMATE-Electrolytes-Chocolate-C...</td>\n",
       "      <td>2023-01-27</td>\n",
       "      <td>5.0</td>\n",
       "      <td>5</td>\n",
       "      <td>I absolutely love this! My buddy gave me a fe...</td>\n",
       "      <td>B0BRT77ZK8</td>\n",
       "    </tr>\n",
       "    <tr>\n",
       "      <th>4</th>\n",
       "      <td>4</td>\n",
       "      <td>NatureWorks-HydroMATE-Electrolytes-Chocolate-C...</td>\n",
       "      <td>2023-02-18</td>\n",
       "      <td>4.0</td>\n",
       "      <td>4</td>\n",
       "      <td>I like to work out regularly. This includes w...</td>\n",
       "      <td>B0BRT77ZK8</td>\n",
       "    </tr>\n",
       "  </tbody>\n",
       "</table>\n",
       "</div>"
      ],
      "text/plain": [
       "   ID                                       Product_Name        Date  \\\n",
       "0   0  NatureWorks-HydroMATE-Electrolytes-Chocolate-C...  2023-01-25   \n",
       "1   1  NatureWorks-HydroMATE-Electrolytes-Chocolate-C...  2023-02-06   \n",
       "2   2  NatureWorks-HydroMATE-Electrolytes-Chocolate-C...  2023-01-27   \n",
       "3   3  NatureWorks-HydroMATE-Electrolytes-Chocolate-C...  2023-01-27   \n",
       "4   4  NatureWorks-HydroMATE-Electrolytes-Chocolate-C...  2023-02-18   \n",
       "\n",
       "   Rating_Score  bert_sentiment  \\\n",
       "0           5.0               5   \n",
       "1           5.0               5   \n",
       "2           5.0               5   \n",
       "3           5.0               5   \n",
       "4           4.0               4   \n",
       "\n",
       "                                             Reviews  Product_ID  \n",
       "0  \n",
       "I love this. I make it for myself and my kids...  B0BRT77ZK8  \n",
       "1  \n",
       "Takes away lightheadedness and makes my husba...  B0BRT77ZK8  \n",
       "2  \n",
       "The chocolate tastes delicious! I drink it ev...  B0BRT77ZK8  \n",
       "3  \n",
       "I absolutely love this! My buddy gave me a fe...  B0BRT77ZK8  \n",
       "4  \n",
       "I like to work out regularly. This includes w...  B0BRT77ZK8  "
      ]
     },
     "execution_count": 10,
     "metadata": {},
     "output_type": "execute_result"
    }
   ],
   "source": [
    "df3.head()"
   ]
  },
  {
   "cell_type": "markdown",
   "id": "eb347349",
   "metadata": {},
   "source": [
    "## Roberta's Negative Sentiment Analysis"
   ]
  },
  {
   "cell_type": "code",
   "execution_count": 11,
   "id": "b32abce8",
   "metadata": {},
   "outputs": [],
   "source": [
    "# Roberta - 'Positive' comment when 1-star was given by customer \n",
    "roberta_pos_1star = []\n",
    "for i in range(0, 69):\n",
    "    result = df.query('Rating_Score == 1') \\\n",
    "        .sort_values('roberta_pos', ascending = False)['Reviews'].values[i]\n",
    "    roberta_pos_1star.append(result)"
   ]
  },
  {
   "cell_type": "code",
   "execution_count": null,
   "id": "fe399a78",
   "metadata": {},
   "outputs": [],
   "source": [
    "print(roberta_pos_1star[0]) # Bad Taste - Vanilla # Bad Taste After"
   ]
  },
  {
   "cell_type": "code",
   "execution_count": null,
   "id": "9ce375c9",
   "metadata": {},
   "outputs": [],
   "source": [
    "print(roberta_pos_1star[1]) # Nausea # Weird Smell - Peanut Butter"
   ]
  },
  {
   "cell_type": "code",
   "execution_count": null,
   "id": "a1ccce9b",
   "metadata": {},
   "outputs": [],
   "source": [
    "print(roberta_pos_1star[2]) # Expensive"
   ]
  },
  {
   "cell_type": "code",
   "execution_count": null,
   "id": "0676da86",
   "metadata": {},
   "outputs": [],
   "source": [
    "print(roberta_pos_1star[3]) # Excessive Sweet/sugary flavor"
   ]
  },
  {
   "cell_type": "code",
   "execution_count": null,
   "id": "e0ed161b",
   "metadata": {},
   "outputs": [],
   "source": [
    "print(roberta_pos_1star[5]) # Coockies n cream # bad taste # Nausea"
   ]
  },
  {
   "cell_type": "code",
   "execution_count": null,
   "id": "39b520ff",
   "metadata": {},
   "outputs": [],
   "source": [
    "print(roberta_pos_1star[6]) # bad taste "
   ]
  },
  {
   "cell_type": "code",
   "execution_count": null,
   "id": "d0b99831",
   "metadata": {},
   "outputs": [],
   "source": [
    "print(roberta_pos_1star[8]) # rare - different nutrition facts when comparing Amazon's advertising vs. Reality"
   ]
  },
  {
   "cell_type": "code",
   "execution_count": null,
   "id": "2f16f337",
   "metadata": {},
   "outputs": [],
   "source": [
    "print(roberta_pos_1star[11]) #bad taste"
   ]
  },
  {
   "cell_type": "code",
   "execution_count": null,
   "id": "eedda57f",
   "metadata": {},
   "outputs": [],
   "source": [
    "print(roberta_pos_1star[12]) #bad state"
   ]
  },
  {
   "cell_type": "code",
   "execution_count": null,
   "id": "bf930671",
   "metadata": {},
   "outputs": [],
   "source": [
    "print(roberta_pos_1star[13]) #bad taste"
   ]
  },
  {
   "cell_type": "code",
   "execution_count": null,
   "id": "9f938b52",
   "metadata": {},
   "outputs": [],
   "source": [
    "print(roberta_pos_1star[15]) # bad taste"
   ]
  },
  {
   "cell_type": "code",
   "execution_count": null,
   "id": "6f423971",
   "metadata": {},
   "outputs": [],
   "source": [
    "print(roberta_pos_1star[16]) # damaged package"
   ]
  },
  {
   "cell_type": "code",
   "execution_count": null,
   "id": "946c08e0",
   "metadata": {},
   "outputs": [],
   "source": [
    "print(roberta_pos_1star[17]) # Bad Texture"
   ]
  },
  {
   "cell_type": "code",
   "execution_count": null,
   "id": "e232c62a",
   "metadata": {},
   "outputs": [],
   "source": [
    "print(roberta_pos_1star[18]) # Peanut butter - Bad Taste"
   ]
  },
  {
   "cell_type": "code",
   "execution_count": null,
   "id": "0dfb76e3",
   "metadata": {},
   "outputs": [],
   "source": [
    "print(roberta_pos_1star[19]) # Damaged package"
   ]
  },
  {
   "cell_type": "code",
   "execution_count": null,
   "id": "16e78ba0",
   "metadata": {},
   "outputs": [],
   "source": [
    "print(roberta_pos_1star[20]) # Quality compromised "
   ]
  },
  {
   "cell_type": "code",
   "execution_count": null,
   "id": "ceeedbd9",
   "metadata": {},
   "outputs": [],
   "source": [
    "print(roberta_pos_1star[22]) # Damaged package - Seal damaged # 1/2 Empty"
   ]
  },
  {
   "cell_type": "code",
   "execution_count": null,
   "id": "03283495",
   "metadata": {},
   "outputs": [],
   "source": [
    "print(roberta_pos_1star[23]) # Damaged package - Seal damaged # 1/2 Empty"
   ]
  },
  {
   "cell_type": "code",
   "execution_count": null,
   "id": "1e14c5e8",
   "metadata": {},
   "outputs": [],
   "source": [
    "print(roberta_pos_1star[24]) # Bad taste - recipe change "
   ]
  },
  {
   "cell_type": "code",
   "execution_count": null,
   "id": "41a4abbc",
   "metadata": {},
   "outputs": [],
   "source": [
    "print(roberta_pos_1star[25]) # Damaged package - Seal damaged"
   ]
  },
  {
   "cell_type": "code",
   "execution_count": null,
   "id": "34144439",
   "metadata": {},
   "outputs": [],
   "source": [
    "print(roberta_pos_1star[26]) # rare - different nutrition facts when comparing Amazon's advertising vs. Reality"
   ]
  },
  {
   "cell_type": "code",
   "execution_count": null,
   "id": "05a89d6a",
   "metadata": {},
   "outputs": [],
   "source": [
    "print(roberta_pos_1star[27]) # Bad Taste - Strawberry n cream"
   ]
  },
  {
   "cell_type": "code",
   "execution_count": null,
   "id": "65587b76",
   "metadata": {},
   "outputs": [],
   "source": [
    "print(roberta_pos_1star[28]) # Damaged package - Seal damaged"
   ]
  },
  {
   "cell_type": "code",
   "execution_count": null,
   "id": "c53d8d98",
   "metadata": {},
   "outputs": [],
   "source": [
    "print(roberta_pos_1star[30]) # Bad Taste - Strawberry n cream"
   ]
  },
  {
   "cell_type": "code",
   "execution_count": null,
   "id": "a274f76b",
   "metadata": {},
   "outputs": [],
   "source": [
    "print(roberta_pos_1star[31]) # Bad Taste - Vanilla"
   ]
  },
  {
   "cell_type": "code",
   "execution_count": null,
   "id": "1b7e6276",
   "metadata": {},
   "outputs": [],
   "source": [
    "print(roberta_pos_1star[32]) # Damaged package - Seal damaged"
   ]
  },
  {
   "cell_type": "code",
   "execution_count": null,
   "id": "7ed93011",
   "metadata": {},
   "outputs": [],
   "source": [
    "print(roberta_pos_1star[33]) # Nausea"
   ]
  },
  {
   "cell_type": "code",
   "execution_count": null,
   "id": "92c9a1ba",
   "metadata": {},
   "outputs": [],
   "source": [
    "print(roberta_pos_1star[34]) # Damaged package - Seal damaged"
   ]
  },
  {
   "cell_type": "code",
   "execution_count": null,
   "id": "eccc223c",
   "metadata": {},
   "outputs": [],
   "source": [
    "print(roberta_pos_1star[35]) # Damaged package - Seal damaged"
   ]
  },
  {
   "cell_type": "code",
   "execution_count": null,
   "id": "ef9ab516",
   "metadata": {},
   "outputs": [],
   "source": [
    "print(roberta_pos_1star[36]) # Damaged package - Seal damaged"
   ]
  },
  {
   "cell_type": "code",
   "execution_count": null,
   "id": "62db794b",
   "metadata": {},
   "outputs": [],
   "source": [
    "print(roberta_pos_1star[37]) # Bad Taste - Vanilla"
   ]
  },
  {
   "cell_type": "code",
   "execution_count": null,
   "id": "475d531e",
   "metadata": {},
   "outputs": [],
   "source": [
    "print(roberta_pos_1star[38]) # Bad Taste # Bad Batch"
   ]
  },
  {
   "cell_type": "code",
   "execution_count": null,
   "id": "b322b495",
   "metadata": {},
   "outputs": [],
   "source": [
    "print(roberta_pos_1star[39]) # Bad Customer Service # return Issue"
   ]
  },
  {
   "cell_type": "code",
   "execution_count": null,
   "id": "a9436f06",
   "metadata": {},
   "outputs": [],
   "source": [
    "print(roberta_pos_1star[40]) # Bad Batch"
   ]
  },
  {
   "cell_type": "code",
   "execution_count": null,
   "id": "a0af6ec8",
   "metadata": {},
   "outputs": [],
   "source": [
    "print(roberta_pos_1star[41]) # Bad Taste - Coffee"
   ]
  },
  {
   "cell_type": "code",
   "execution_count": null,
   "id": "bdf1047f",
   "metadata": {},
   "outputs": [],
   "source": [
    "print(roberta_pos_1star[42]) # Bad Taste # Nausea"
   ]
  },
  {
   "cell_type": "code",
   "execution_count": null,
   "id": "607d3cb2",
   "metadata": {},
   "outputs": [],
   "source": [
    "print(roberta_pos_1star[43]) # Damaged package - Seal damaged"
   ]
  },
  {
   "cell_type": "code",
   "execution_count": null,
   "id": "77f03f59",
   "metadata": {},
   "outputs": [],
   "source": [
    "print(roberta_pos_1star[44]) # Rare - 1/2 empty sealed product"
   ]
  },
  {
   "cell_type": "code",
   "execution_count": null,
   "id": "d6057681",
   "metadata": {},
   "outputs": [],
   "source": [
    "print(roberta_pos_1star[45]) # Damaged package - Seal damaged"
   ]
  },
  {
   "cell_type": "code",
   "execution_count": null,
   "id": "5d55a943",
   "metadata": {},
   "outputs": [],
   "source": [
    "print(roberta_pos_1star[46]) # Rare - Unsatisfied customer with scoop's dimensions"
   ]
  },
  {
   "cell_type": "code",
   "execution_count": null,
   "id": "c61c11e6",
   "metadata": {},
   "outputs": [],
   "source": [
    "print(roberta_pos_1star[47]) # Bad Texture"
   ]
  },
  {
   "cell_type": "code",
   "execution_count": null,
   "id": "20787663",
   "metadata": {},
   "outputs": [],
   "source": [
    "print(roberta_pos_1star[51]) # Bad Scoop Sizing"
   ]
  },
  {
   "cell_type": "code",
   "execution_count": null,
   "id": "7ed05dc2",
   "metadata": {},
   "outputs": [],
   "source": [
    "print(roberta_pos_1star[52]) # Bad Taste - Vanilla "
   ]
  },
  {
   "cell_type": "code",
   "execution_count": null,
   "id": "bb972afc",
   "metadata": {},
   "outputs": [],
   "source": [
    "print(roberta_pos_1star[53]) # Bad Taste # Bad Texture"
   ]
  },
  {
   "cell_type": "code",
   "execution_count": null,
   "id": "8fffbb5b",
   "metadata": {},
   "outputs": [],
   "source": [
    "print(roberta_pos_1star[54]) # Bad Taste # Bad Texture # quality decrease"
   ]
  },
  {
   "cell_type": "code",
   "execution_count": null,
   "id": "ceb3f747",
   "metadata": {},
   "outputs": [],
   "source": [
    "print(roberta_pos_1star[55]) # Bad Scoop Sizing"
   ]
  },
  {
   "cell_type": "code",
   "execution_count": null,
   "id": "4c4644a4",
   "metadata": {},
   "outputs": [],
   "source": [
    "print(roberta_pos_1star[56]) # Bad Taste # Bad Texture"
   ]
  },
  {
   "cell_type": "code",
   "execution_count": null,
   "id": "fbdc87ab",
   "metadata": {},
   "outputs": [],
   "source": [
    "print(roberta_pos_1star[57]) # Bad Taste - Chocolate"
   ]
  },
  {
   "cell_type": "code",
   "execution_count": null,
   "id": "0de40361",
   "metadata": {},
   "outputs": [],
   "source": [
    "print(roberta_pos_1star[58]) # Bad Texture"
   ]
  },
  {
   "cell_type": "code",
   "execution_count": null,
   "id": "fed1ca88",
   "metadata": {},
   "outputs": [],
   "source": [
    "print(roberta_pos_1star[59]) # Bad Taste"
   ]
  },
  {
   "cell_type": "code",
   "execution_count": null,
   "id": "b166e4e2",
   "metadata": {},
   "outputs": [],
   "source": [
    "print(roberta_pos_1star[60]) # Bad Texture"
   ]
  },
  {
   "cell_type": "code",
   "execution_count": null,
   "id": "cbfb6d90",
   "metadata": {},
   "outputs": [],
   "source": [
    "print(roberta_pos_1star[61]) # Damaged package - Seal damaged ***"
   ]
  },
  {
   "cell_type": "code",
   "execution_count": null,
   "id": "726f3027",
   "metadata": {},
   "outputs": [],
   "source": [
    "print(roberta_pos_1star[62]) # Bad taste"
   ]
  },
  {
   "cell_type": "code",
   "execution_count": null,
   "id": "0ce9a65a",
   "metadata": {},
   "outputs": [],
   "source": [
    "print(roberta_pos_1star[63]) # Bad Texture"
   ]
  },
  {
   "cell_type": "code",
   "execution_count": null,
   "id": "c8e54edb",
   "metadata": {},
   "outputs": [],
   "source": [
    "print(roberta_pos_1star[64]) # Bad Texture # Bad Flavor"
   ]
  },
  {
   "cell_type": "code",
   "execution_count": null,
   "id": "cebcf603",
   "metadata": {},
   "outputs": [],
   "source": [
    "print(roberta_pos_1star[65]) # Bad Texture # Bad Flavor"
   ]
  },
  {
   "cell_type": "code",
   "execution_count": null,
   "id": "abbb140a",
   "metadata": {},
   "outputs": [],
   "source": [
    "print(roberta_pos_1star[66]) # Bad Flavor"
   ]
  },
  {
   "cell_type": "code",
   "execution_count": null,
   "id": "17f72cb3",
   "metadata": {},
   "outputs": [],
   "source": [
    "print(roberta_pos_1star[67]) # Bad Flavor - Peanut Butter Chocolate"
   ]
  },
  {
   "cell_type": "code",
   "execution_count": null,
   "id": "d2f0edb3",
   "metadata": {},
   "outputs": [],
   "source": [
    "print(roberta_pos_1star[68]) # Bad Aroma # Bad Flavor"
   ]
  },
  {
   "cell_type": "code",
   "execution_count": null,
   "id": "1d444fe6",
   "metadata": {},
   "outputs": [],
   "source": [
    "# Roberta - 'Negative' comment when 5-star was given by customer \n",
    "\"\"\"\n",
    "roberta_neg_5star = []\n",
    "for i in range(0, 2063):\n",
    "    result = df.query('Rating_Score == 5') \\\n",
    "        .sort_values('roberta_neg', ascending = False)['Reviews'].values[i]\n",
    "    roberta_neg_5star.append(result)\n",
    "\"\"\""
   ]
  },
  {
   "cell_type": "code",
   "execution_count": null,
   "id": "edd1a619",
   "metadata": {},
   "outputs": [],
   "source": [
    "# Roberta - 'Negative' comment when 1-star was given by customer\n",
    "\"\"\"\n",
    "roberta_neg_1star = []\n",
    "for i in range(0, 69):\n",
    "    result = df.query('Rating_Score == 1') \\\n",
    "        .sort_values('roberta_neg', ascending = False)['Reviews'].values[i]\n",
    "    roberta_neg_1star.append(result)\n",
    "\"\"\""
   ]
  },
  {
   "cell_type": "markdown",
   "id": "f2d53f85",
   "metadata": {},
   "source": [
    "## Vader's Negative Sentiment (for-loop)"
   ]
  },
  {
   "cell_type": "code",
   "execution_count": null,
   "id": "e06c851c",
   "metadata": {},
   "outputs": [],
   "source": [
    "# Vader - 'Positive' comment when 1-star was given by customer\n",
    "\"\"\"\n",
    "vader_pos_1star = []\n",
    "for i in range(0, 69):\n",
    "    result = df.query('Rating_Score == 1') \\\n",
    "        .sort_values('vader_pos', ascending = False)['Reviews'].values[i]\n",
    "    vader_pos_1star.append(result)\n",
    "\"\"\""
   ]
  },
  {
   "cell_type": "code",
   "execution_count": null,
   "id": "1205d331",
   "metadata": {},
   "outputs": [],
   "source": [
    "# Vader - 'Negative' comment when 5-star was given by customer \n",
    "\"\"\"\n",
    "vader_neg_5star = []\n",
    "for i in range(0, 2063):\n",
    "    result = df.query('Rating_Score == 5') \\\n",
    "        .sort_values('vader_neg', ascending = False)['Reviews'].values[i]\n",
    "    vader_neg_5star.append(result)\n",
    "\"\"\""
   ]
  },
  {
   "cell_type": "code",
   "execution_count": null,
   "id": "e7e29444",
   "metadata": {},
   "outputs": [],
   "source": [
    "# Vader - 'Negative' comment when 1-star was given by customer \n",
    "\"\"\"\n",
    "vader_neg_1star = []\n",
    "for i in range(0, 69):\n",
    "    result = df.query('Rating_Score == 1') \\\n",
    "        .sort_values('vader_neg', ascending = False)['Reviews'].values[i]\n",
    "    vader_neg_1star.append(result)\n",
    "\"\"\""
   ]
  },
  {
   "cell_type": "markdown",
   "id": "6753b615",
   "metadata": {},
   "source": [
    "## TextBlob's Negative & Neutral Sentiment (for-loop)"
   ]
  },
  {
   "cell_type": "code",
   "execution_count": null,
   "id": "dd65ea7d",
   "metadata": {},
   "outputs": [],
   "source": [
    "# TextBlob - 'Neutral' / Polarity comment given by customer \n",
    "\"\"\"\n",
    "textblob_neu_p = []\n",
    "for i in range(0, 260):\n",
    "    result = df2.query('textblob_analysis == 0') \\\n",
    "        .sort_values('textblob_polarity', ascending = False)['Reviews'].values[i]\n",
    "    textblob_neu_p.append(result)\n",
    "\"\"\""
   ]
  },
  {
   "cell_type": "code",
   "execution_count": null,
   "id": "03ff4444",
   "metadata": {},
   "outputs": [],
   "source": [
    "# TextBlob - 'Neutral' / Subjectivity comment given by customer \n",
    "\"\"\"\n",
    "textblob_neu_s = []\n",
    "for i in range(0, 260):\n",
    "    result = df2.query('textblob_analysis == 0') \\\n",
    "        .sort_values('textblob_subjectivity', ascending = False)['Reviews'].values[i]\n",
    "    textblob_neu_s.append(result)\n",
    "\"\"\""
   ]
  },
  {
   "cell_type": "code",
   "execution_count": 12,
   "id": "d42c31e2",
   "metadata": {},
   "outputs": [],
   "source": [
    "# TextBlob - 'Negative' / Polarity comment given by customer \n",
    "textblob_neg_p = []\n",
    "for i in range(0, 338):\n",
    "    result = df2.query('textblob_analysis == -1') \\\n",
    "        .sort_values('textblob_polarity', ascending = False)['Reviews'].values[i]\n",
    "    textblob_neg_p.append(result)"
   ]
  },
  {
   "cell_type": "code",
   "execution_count": null,
   "id": "dc94e242",
   "metadata": {},
   "outputs": [],
   "source": [
    "print(textblob_neg_p[80]) # Bad Taste"
   ]
  },
  {
   "cell_type": "code",
   "execution_count": null,
   "id": "2305459a",
   "metadata": {},
   "outputs": [],
   "source": [
    "print(textblob_neg_p[300]) # Bad Taste # Bad Texture"
   ]
  },
  {
   "cell_type": "code",
   "execution_count": null,
   "id": "e1a60b26",
   "metadata": {},
   "outputs": [],
   "source": [
    "print(textblob_neg_p[337]) # Bad Aftertaste"
   ]
  },
  {
   "cell_type": "code",
   "execution_count": null,
   "id": "b1190f69",
   "metadata": {},
   "outputs": [],
   "source": [
    "print(textblob_neg_p[37]) # Bad Texture"
   ]
  },
  {
   "cell_type": "code",
   "execution_count": null,
   "id": "aa65d922",
   "metadata": {},
   "outputs": [],
   "source": [
    "print(textblob_neg_p[29]) # Shipping Issue - Portion of product is missing"
   ]
  },
  {
   "cell_type": "code",
   "execution_count": null,
   "id": "7c000c68",
   "metadata": {},
   "outputs": [],
   "source": [
    "print(textblob_neg_p[215]) # Bad taste - Peanut Butter"
   ]
  },
  {
   "cell_type": "code",
   "execution_count": null,
   "id": "5b908c87",
   "metadata": {},
   "outputs": [],
   "source": [
    "# TextBlob - 'Negative' / Subjectivity comment given by customer \n",
    "textblob_neg_s = []\n",
    "for i in range(0, 338):\n",
    "    result = df2.query('textblob_analysis == -1') \\\n",
    "        .sort_values('textblob_subjectivity', ascending = False)['Reviews'].values[i]\n",
    "    textblob_neg_s.append(result)"
   ]
  },
  {
   "cell_type": "markdown",
   "id": "e677cd5a",
   "metadata": {},
   "source": [
    "## Bert's Negative & Neutral Sentiment (for-loop)"
   ]
  },
  {
   "cell_type": "code",
   "execution_count": 13,
   "id": "ffa545f1",
   "metadata": {},
   "outputs": [],
   "source": [
    "# Bert - Sentiment when 1-star was given by model\n",
    "\"\"\"\n",
    "bert_1star = []\n",
    "for i in range(0, 191):\n",
    "    result = df3.query('bert_sentiment == 1') \\\n",
    "        .sort_values('Rating_Score', ascending = False)['Reviews'].values[i]\n",
    "    bert_1star.append(result)\n",
    "\"\"\""
   ]
  },
  {
   "cell_type": "code",
   "execution_count": 14,
   "id": "9e849a07",
   "metadata": {},
   "outputs": [],
   "source": [
    "# Bert - Sentiment when 2-star was given by model\n",
    "\"\"\"\n",
    "bert_2star = []\n",
    "for i in range(0, 360):\n",
    "    result = df3.query('bert_sentiment == 2') \\\n",
    "        .sort_values('Rating_Score', ascending = False)['Reviews'].values[i]\n",
    "    bert_2star.append(result)\n",
    "\"\"\""
   ]
  },
  {
   "cell_type": "code",
   "execution_count": 15,
   "id": "0c9059e2",
   "metadata": {},
   "outputs": [],
   "source": [
    "# Bert - Sentiment when 3-star was given by model \n",
    "\"\"\"\n",
    "bert_3star = []\n",
    "for i in range(0, 528):\n",
    "    result = df3.query('bert_sentiment == 3') \\\n",
    "        .sort_values('Rating_Score', ascending = False)['Reviews'].values[i]\n",
    "    bert_3star.append(result)\n",
    "\"\"\""
   ]
  },
  {
   "cell_type": "markdown",
   "id": "2a7aeb29",
   "metadata": {},
   "source": [
    "# Conclusion "
   ]
  },
  {
   "attachments": {},
   "cell_type": "markdown",
   "id": "5369bcd7",
   "metadata": {},
   "source": [
    "After reviewing multiple comments labelled as ‘negative’ according to the previously mentioned classification models (except Naïve Bayes’ classifier) , we noticed the most common words or sentences are related with: \n",
    "- Bad taste (Peanut Butter and ‘Cookies n Cream’ being the most common flavors)\n",
    "- Bad texture when mixed with liquids (mostly due to ‘lumps’)\n",
    "- Instances or occasional cases of ‘bad batches’\n",
    "- Expensive relative to low quality\n",
    "- Nausea or stomach aches\n",
    "- Bad aftertaste\n",
    "- Excessive sugary or sweet flavors\n",
    "- Bad aroma\n",
    "- Quality decrease according to frequent buyers or consumers\n",
    "- Small or ‘Incorrect’ scoop sizing\n",
    "- Cases in which the package is damaged – seal is broken (specific issue)\n",
    "\n",
    "Negative experiences allows businesses to learn from their mistakes and to continuously improve the quality of their products and services."
   ]
  }
 ],
 "metadata": {
  "kernelspec": {
   "display_name": "Python 3 (ipykernel)",
   "language": "python",
   "name": "python3"
  },
  "language_info": {
   "codemirror_mode": {
    "name": "ipython",
    "version": 3
   },
   "file_extension": ".py",
   "mimetype": "text/x-python",
   "name": "python",
   "nbconvert_exporter": "python",
   "pygments_lexer": "ipython3",
   "version": "3.11.1"
  }
 },
 "nbformat": 4,
 "nbformat_minor": 5
}
